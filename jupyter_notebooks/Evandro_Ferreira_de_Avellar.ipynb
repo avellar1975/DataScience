{
  "nbformat": 4,
  "nbformat_minor": 0,
  "metadata": {
    "colab": {
      "name": "Evandro_Ferreira_de_Avellar.ipynb",
      "provenance": [],
      "toc_visible": true,
      "include_colab_link": true
    },
    "kernelspec": {
      "name": "python3",
      "display_name": "Python 3"
    }
  },
  "cells": [
    {
      "cell_type": "markdown",
      "metadata": {
        "id": "view-in-github",
        "colab_type": "text"
      },
      "source": [
        "<a href=\"https://colab.research.google.com/github/avellar1975/DataScience/blob/main/jupyter_notebooks/Evandro_Ferreira_de_Avellar.ipynb\" target=\"_parent\"><img src=\"https://colab.research.google.com/assets/colab-badge.svg\" alt=\"Open In Colab\"/></a>"
      ]
    },
    {
      "cell_type": "markdown",
      "metadata": {
        "id": "d0Von_Eo3g5t"
      },
      "source": [
        "<img src='https://raw.githubusercontent.com/avellar1975/DataScience/main/img/header_projeto.png' width=900>"
      ]
    },
    {
      "cell_type": "markdown",
      "metadata": {
        "id": "E27fQer3E8K9"
      },
      "source": [
        "Olá **Cientista**!\n",
        "\n",
        "Bem vinda e bem vindo ao **mega desafio do Módulo 01**, neste desafio queremos que você aplique tudo que aprendeu no curso, analisando uma outra informação ~~referente a base de dados de [produção hospitalar](http://www2.datasus.gov.br/DATASUS/index.php?area=0202&id=11633&VObj=http://tabnet.datasus.gov.br/cgi/deftohtm.exe?sih/cnv/qi), seja número de internação, óbito, AIH ou taxa de mortalidade.~~ \n",
        "\n",
        "**P.S: Infelizmente o DataSUS está fora do ar por tempo indeterminado, para você não parar seu projeto, adicionamos no [GitHub](https://github.com/alura-cursos/agendamento-hospitalar/tree/main/dados) do curso, duas novas bases para você utilizar neste projeto (COVID-19 e Óbitos).**\n",
        "\n",
        "Uma base é dos **casos de COVID-19 baixadas do projeto [BRASIL.IO](https://brasil.io/dataset/covid19/caso/)**, outra são os números de óbitos registrados no cartório civil desde 1970 retirado do **[Kaggle](https://www.kaggle.com/amandalk/registered-deaths-brazil)**.\n",
        "\n",
        "Vocês podem escolher qualquer uma das duas bases de dados, a de COVID-19 é mais desafiadora e você vai precisar descompactar o arquivo por ser grande e entrar no site do Brasil.IO para entender todas as features presentes (No Brasil.IO tem diversas bases sobre COVID-19, estamos usando a chamada **Casos**). A base de óbito é mais simples e relativamente semelhate a utilizada no curso.\n",
        "\n",
        "Algumas dicas para você mandar bem no desafio final, capriche nas análises, escreva suas conclusões e hipóteses (mesmo que resultado seja inconclusivo) e não esqueça de colocar um resumo dos pontos que julgar mais interessantes do seu projeto.\n",
        "\n",
        "\n",
        "\n",
        "E para que o seu projeto tenha a oportunidade de ser avalido pelo Thiago G. Santos e Átila Iamarino, ao vivo na **live de revisão de projetos** submeta o link compartilhado do seu notebook [neste formulário](https://docs.google.com/forms/d/e/1FAIpQLSd1jemhvdo8sM6e-bgOryyZ2P3YuMO6E_mUQXabyBX_xhuZQQ/viewform?usp=sf_link) até dia 22/11 às 23h59.\n",
        "\n",
        "Para facilitar a vida dos seus instrutores favoritos, no momento da correção, algumas dicas de como estruturar seu projeto:\n",
        "\n",
        "- Como título do seu **Colab** coloque seu nome (Ex: Thiago_Gonçalves.ipynb)\n",
        "- Crie um resumo das suas análises na parte superior do notebook\n",
        "- Informe no resumo os dados que vc vai analisar (Ex: Finaceiros e Internações)\n",
        "\n",
        "Qualquer dúvida não deixe de perguntar no Discord, compatilhe seu projeto nas redes sociais e crie um repositório no github, esse é o início do seu portifólio em Data Science.\n",
        "\n",
        "\n",
        "\n",
        "Fique a vontade para utilizar esse notebook como template projeto.\n",
        "\n"
      ]
    },
    {
      "cell_type": "markdown",
      "metadata": {
        "id": "RshO3GgDFGhB"
      },
      "source": [
        "## Resumo:"
      ]
    },
    {
      "cell_type": "markdown",
      "metadata": {
        "id": "5uCnnI6z6Mq-"
      },
      "source": [
        "<p>Analisar os impactos do COVID-19 no país sem olhar diretamente para os dados de contaminados e óbitos pode ser uma forma imparcial de verificar o quanto ela está afetando nossa sociedade.</p>\n",
        "<p>O objetivo deste estudo é analisar o comportamento mensal da quantidade de óbitos dos últimos 10 anos e descobrir se o COVID-19 afetou a quantidade de óbitos mensais comparado com os anos anteriores.</p>\n",
        "<p>Podemos não chegar a essa conclusão se por hipótese os óbitos por COVID-19 substituiu outras causas de morte, por exemplo: será que houve redução de mortes por outras doenças contagiosas prevenidas pelo isolamento social e utilização de máscaras? Será que houve uma redução de acidentes de trânsito por conta do isolamento nos grandes centros urbanos.</p>\n",
        "<p>Por outro lado, a análise poderá demonstrar que somado ao número de óbitos por COVID-19 houve uma aumento provocado indiretamente pela pandemia, com um possível crescimento de óbitos por conta da complicações de outras doenças causadas por um colapso do sistema de saúde, neste caso haverá um crescimento anormal na curva dos óbitos mensais.</p>\n",
        "<p>Acredito que o resultado poderá trazer uma evidência científica, que ficará acima das convicções políticas que infelizmente se misturam nessa grande crise de saúde.</p>"
      ]
    },
    {
      "cell_type": "markdown",
      "metadata": {
        "id": "YJaNprdeFN7n"
      },
      "source": [
        "## Análise dos dados:"
      ]
    },
    {
      "cell_type": "markdown",
      "metadata": {
        "id": "dxKdzDuT_k72"
      },
      "source": [
        "### Preparando a base do estudo\n",
        "\n",
        "<p>Através do Shell no Linux o arquivo original foi reduzido para os últimos 10 anos.</p>\n",
        "<img src='https://raw.githubusercontent.com/avellar1975/DataScience/main/img/bash.png' width=200>\n",
        "\n",
        "```\n",
        "$ head -1 obitos-registro-civil.csv > obitos_2010_2020.csv\n",
        "$ tail -3451 obitos-registro-civil.csv >> obitos_2010_2020.csv\n",
        "```"
      ]
    },
    {
      "cell_type": "markdown",
      "metadata": {
        "id": "DNu5tQuCCRic"
      },
      "source": [
        "### Importando bibliotecas que serão utilizadas no estudo"
      ]
    },
    {
      "cell_type": "code",
      "metadata": {
        "id": "S6ao2Ov5A3uQ"
      },
      "source": [
        "import pandas as pd\n",
        "from matplotlib import pyplot as plt\n",
        "from matplotlib import ticker"
      ],
      "execution_count": 13,
      "outputs": []
    },
    {
      "cell_type": "markdown",
      "metadata": {
        "id": "CDrigWrpCart"
      },
      "source": [
        "### Carregando nosso dataset"
      ]
    },
    {
      "cell_type": "code",
      "metadata": {
        "id": "y10QE4O2ADbY",
        "colab": {
          "base_uri": "https://localhost:8080/",
          "height": 204
        },
        "outputId": "02f3d060-31e1-4ee2-8095-5acdef8f8e7e"
      },
      "source": [
        "obitos = pd.read_csv('https://raw.githubusercontent.com/avellar1975/DataScience/main/dados/obitos_2010_2020.csv')\n",
        "obitos.head()"
      ],
      "execution_count": 14,
      "outputs": [
        {
          "output_type": "execute_result",
          "data": {
            "text/html": [
              "<div>\n",
              "<style scoped>\n",
              "    .dataframe tbody tr th:only-of-type {\n",
              "        vertical-align: middle;\n",
              "    }\n",
              "\n",
              "    .dataframe tbody tr th {\n",
              "        vertical-align: top;\n",
              "    }\n",
              "\n",
              "    .dataframe thead th {\n",
              "        text-align: right;\n",
              "    }\n",
              "</style>\n",
              "<table border=\"1\" class=\"dataframe\">\n",
              "  <thead>\n",
              "    <tr style=\"text-align: right;\">\n",
              "      <th></th>\n",
              "      <th>year</th>\n",
              "      <th>month</th>\n",
              "      <th>state</th>\n",
              "      <th>deaths</th>\n",
              "    </tr>\n",
              "  </thead>\n",
              "  <tbody>\n",
              "    <tr>\n",
              "      <th>0</th>\n",
              "      <td>2010</td>\n",
              "      <td>1</td>\n",
              "      <td>AC</td>\n",
              "      <td>79</td>\n",
              "    </tr>\n",
              "    <tr>\n",
              "      <th>1</th>\n",
              "      <td>2010</td>\n",
              "      <td>1</td>\n",
              "      <td>AL</td>\n",
              "      <td>557</td>\n",
              "    </tr>\n",
              "    <tr>\n",
              "      <th>2</th>\n",
              "      <td>2010</td>\n",
              "      <td>1</td>\n",
              "      <td>AP</td>\n",
              "      <td>149</td>\n",
              "    </tr>\n",
              "    <tr>\n",
              "      <th>3</th>\n",
              "      <td>2010</td>\n",
              "      <td>1</td>\n",
              "      <td>BA</td>\n",
              "      <td>666</td>\n",
              "    </tr>\n",
              "    <tr>\n",
              "      <th>4</th>\n",
              "      <td>2010</td>\n",
              "      <td>1</td>\n",
              "      <td>CE</td>\n",
              "      <td>146</td>\n",
              "    </tr>\n",
              "  </tbody>\n",
              "</table>\n",
              "</div>"
            ],
            "text/plain": [
              "   year  month state  deaths\n",
              "0  2010      1    AC      79\n",
              "1  2010      1    AL     557\n",
              "2  2010      1    AP     149\n",
              "3  2010      1    BA     666\n",
              "4  2010      1    CE     146"
            ]
          },
          "metadata": {
            "tags": []
          },
          "execution_count": 14
        }
      ]
    },
    {
      "cell_type": "markdown",
      "metadata": {
        "id": "X8fcFHLS8dY8"
      },
      "source": [
        "> Será preciso criar uma nova coluna 'Ano/mês' para facilitar o agrupamento de óbitos por mês."
      ]
    },
    {
      "cell_type": "code",
      "metadata": {
        "id": "mwQLQPUsA_Iy",
        "colab": {
          "base_uri": "https://localhost:8080/",
          "height": 204
        },
        "outputId": "be18b823-98c0-4964-814c-9c9152116922"
      },
      "source": [
        "for index, row in obitos.iterrows():\n",
        "    if row['month'] < 10:\n",
        "        row['month'] = '0' + str(row['month'])\n",
        "    obitos.loc[index,'Ano/mês'] = str(row['year']) + '/' + str(row['month'])\n",
        "\n",
        "obitos.head()"
      ],
      "execution_count": 15,
      "outputs": [
        {
          "output_type": "execute_result",
          "data": {
            "text/html": [
              "<div>\n",
              "<style scoped>\n",
              "    .dataframe tbody tr th:only-of-type {\n",
              "        vertical-align: middle;\n",
              "    }\n",
              "\n",
              "    .dataframe tbody tr th {\n",
              "        vertical-align: top;\n",
              "    }\n",
              "\n",
              "    .dataframe thead th {\n",
              "        text-align: right;\n",
              "    }\n",
              "</style>\n",
              "<table border=\"1\" class=\"dataframe\">\n",
              "  <thead>\n",
              "    <tr style=\"text-align: right;\">\n",
              "      <th></th>\n",
              "      <th>year</th>\n",
              "      <th>month</th>\n",
              "      <th>state</th>\n",
              "      <th>deaths</th>\n",
              "      <th>Ano/mês</th>\n",
              "    </tr>\n",
              "  </thead>\n",
              "  <tbody>\n",
              "    <tr>\n",
              "      <th>0</th>\n",
              "      <td>2010</td>\n",
              "      <td>1</td>\n",
              "      <td>AC</td>\n",
              "      <td>79</td>\n",
              "      <td>2010/01</td>\n",
              "    </tr>\n",
              "    <tr>\n",
              "      <th>1</th>\n",
              "      <td>2010</td>\n",
              "      <td>1</td>\n",
              "      <td>AL</td>\n",
              "      <td>557</td>\n",
              "      <td>2010/01</td>\n",
              "    </tr>\n",
              "    <tr>\n",
              "      <th>2</th>\n",
              "      <td>2010</td>\n",
              "      <td>1</td>\n",
              "      <td>AP</td>\n",
              "      <td>149</td>\n",
              "      <td>2010/01</td>\n",
              "    </tr>\n",
              "    <tr>\n",
              "      <th>3</th>\n",
              "      <td>2010</td>\n",
              "      <td>1</td>\n",
              "      <td>BA</td>\n",
              "      <td>666</td>\n",
              "      <td>2010/01</td>\n",
              "    </tr>\n",
              "    <tr>\n",
              "      <th>4</th>\n",
              "      <td>2010</td>\n",
              "      <td>1</td>\n",
              "      <td>CE</td>\n",
              "      <td>146</td>\n",
              "      <td>2010/01</td>\n",
              "    </tr>\n",
              "  </tbody>\n",
              "</table>\n",
              "</div>"
            ],
            "text/plain": [
              "   year  month state  deaths  Ano/mês\n",
              "0  2010      1    AC      79  2010/01\n",
              "1  2010      1    AL     557  2010/01\n",
              "2  2010      1    AP     149  2010/01\n",
              "3  2010      1    BA     666  2010/01\n",
              "4  2010      1    CE     146  2010/01"
            ]
          },
          "metadata": {
            "tags": []
          },
          "execution_count": 15
        }
      ]
    },
    {
      "cell_type": "markdown",
      "metadata": {
        "id": "jrWhg1G28rJS"
      },
      "source": [
        "> Inicialmente vamos realizar a análise por Ano/mês independente da UF"
      ]
    },
    {
      "cell_type": "code",
      "metadata": {
        "id": "kg7Wi-MNT4Gy",
        "colab": {
          "base_uri": "https://localhost:8080/",
          "height": 235
        },
        "outputId": "9901308e-81ed-4bf5-b9e1-c9e5ea88ae5d"
      },
      "source": [
        "obitos_agrupados = obitos[['Ano/mês', 'deaths']].groupby('Ano/mês').sum()\n",
        "obitos_agrupados.tail()"
      ],
      "execution_count": 16,
      "outputs": [
        {
          "output_type": "execute_result",
          "data": {
            "text/html": [
              "<div>\n",
              "<style scoped>\n",
              "    .dataframe tbody tr th:only-of-type {\n",
              "        vertical-align: middle;\n",
              "    }\n",
              "\n",
              "    .dataframe tbody tr th {\n",
              "        vertical-align: top;\n",
              "    }\n",
              "\n",
              "    .dataframe thead th {\n",
              "        text-align: right;\n",
              "    }\n",
              "</style>\n",
              "<table border=\"1\" class=\"dataframe\">\n",
              "  <thead>\n",
              "    <tr style=\"text-align: right;\">\n",
              "      <th></th>\n",
              "      <th>deaths</th>\n",
              "    </tr>\n",
              "    <tr>\n",
              "      <th>Ano/mês</th>\n",
              "      <th></th>\n",
              "    </tr>\n",
              "  </thead>\n",
              "  <tbody>\n",
              "    <tr>\n",
              "      <th>2020/04</th>\n",
              "      <td>112863</td>\n",
              "    </tr>\n",
              "    <tr>\n",
              "      <th>2020/05</th>\n",
              "      <td>130470</td>\n",
              "    </tr>\n",
              "    <tr>\n",
              "      <th>2020/06</th>\n",
              "      <td>132361</td>\n",
              "    </tr>\n",
              "    <tr>\n",
              "      <th>2020/07</th>\n",
              "      <td>136728</td>\n",
              "    </tr>\n",
              "    <tr>\n",
              "      <th>2020/08</th>\n",
              "      <td>126535</td>\n",
              "    </tr>\n",
              "  </tbody>\n",
              "</table>\n",
              "</div>"
            ],
            "text/plain": [
              "         deaths\n",
              "Ano/mês        \n",
              "2020/04  112863\n",
              "2020/05  130470\n",
              "2020/06  132361\n",
              "2020/07  136728\n",
              "2020/08  126535"
            ]
          },
          "metadata": {
            "tags": []
          },
          "execution_count": 16
        }
      ]
    },
    {
      "cell_type": "markdown",
      "metadata": {
        "id": "R6FUUzHN88Xy"
      },
      "source": [
        "### Gráfico dos dados gerados"
      ]
    },
    {
      "cell_type": "code",
      "metadata": {
        "id": "ThcRCe_PCmVJ",
        "colab": {
          "base_uri": "https://localhost:8080/",
          "height": 328
        },
        "outputId": "13d9a5fc-8ba6-44dd-9f96-85a264383c3c"
      },
      "source": [
        "# style\n",
        "plt.style.use('dark_background')\n",
        " \n",
        "# create a color palette\n",
        "palette = plt.get_cmap('hsv')\n",
        " \n",
        "ax = obitos_agrupados.plot(figsize=(23,6), colormap=palette, grid=False)\n",
        "\n",
        "ax.yaxis.set_major_formatter(ticker.StrMethodFormatter(\"{x:,.0f}\"))\n",
        "\n",
        "ax.xaxis\n",
        "ax.set_title('Números de óbitos no Brasil de 2010 a 2020', fontsize=18, pad=20, color='white')\n",
        "\n",
        "plt.xticks(rotation=90)\n",
        "plt.xlim(0, 128)\n",
        "ax.set_xticks(range(0,128))\n",
        "ax.set_xticklabels(obitos_agrupados.T.columns)\n",
        "\n",
        "\n",
        "plt.show()\n"
      ],
      "execution_count": 17,
      "outputs": [
        {
          "output_type": "display_data",
          "data": {
            "image/png": "[encoded data removed]",
            "text/plain": [
              "<Figure size 1656x432 with 1 Axes>"
            ]
          },
          "metadata": {
            "tags": []
          }
        }
      ]
    },
    {
      "cell_type": "markdown",
      "metadata": {
        "id": "Q6I98LOM9Rwo"
      },
      "source": [
        "### Reduzindo a base para 5 anos\n",
        "\n",
        "A redução foi realizada para faciliar a observação dos meses"
      ]
    },
    {
      "cell_type": "code",
      "metadata": {
        "id": "1p-mB0DoSJOc",
        "colab": {
          "base_uri": "https://localhost:8080/"
        },
        "outputId": "697b9532-a86a-4f9e-8fa1-f32337032044"
      },
      "source": [
        "obitos_5_anos = obitos_agrupados[60:]\n",
        "obitos_5_anos.info()"
      ],
      "execution_count": 18,
      "outputs": [
        {
          "output_type": "stream",
          "text": [
            "<class 'pandas.core.frame.DataFrame'>\n",
            "Index: 68 entries, 2015/01 to 2020/08\n",
            "Data columns (total 1 columns):\n",
            " #   Column  Non-Null Count  Dtype\n",
            "---  ------  --------------  -----\n",
            " 0   deaths  68 non-null     int64\n",
            "dtypes: int64(1)\n",
            "memory usage: 1.1+ KB\n"
          ],
          "name": "stdout"
        }
      ]
    },
    {
      "cell_type": "markdown",
      "metadata": {
        "id": "IM0YyJsy9bap"
      },
      "source": [
        "### Gráfico dos últimos 5 anos"
      ]
    },
    {
      "cell_type": "code",
      "metadata": {
        "id": "vDMblspbYPCm",
        "colab": {
          "base_uri": "https://localhost:8080/",
          "height": 372
        },
        "outputId": "2095de91-69a4-4939-8d36-673ed9936a00"
      },
      "source": [
        "# style\n",
        "plt.style.use('dark_background')\n",
        " \n",
        "# create a color palette\n",
        "palette = plt.get_cmap('hsv')\n",
        " \n",
        "ax = obitos_5_anos.plot(figsize=(20,6), colormap=palette, grid=True)\n",
        "\n",
        "ax.yaxis.set_major_formatter(ticker.StrMethodFormatter(\"{x:,.0f}\"))\n",
        "\n",
        "ax.xaxis\n",
        "ax.set_title('Números de óbitos no Brasil de 2010 a 2020', fontsize=18, pad=20, color='white')\n",
        "\n",
        "plt.xticks(rotation=90)\n",
        "# plt.xlim(0, 68)\n",
        "ax.set_xticks(range(0,68))\n",
        "ax.set_xticklabels(obitos_5_anos.T.columns)\n",
        "\n",
        "\n",
        "plt.show()"
      ],
      "execution_count": 19,
      "outputs": [
        {
          "output_type": "display_data",
          "data": {
            "image/png": "[encoded data removed]",
            "text/plain": [
              "<Figure size 1440x432 with 1 Axes>"
            ]
          },
          "metadata": {
            "tags": []
          }
        }
      ]
    },
    {
      "cell_type": "code",
      "metadata": {
        "id": "zWOFmwGZ--BK",
        "outputId": "2f6d9b0e-3d73-46c5-95df-40d0628a9503",
        "colab": {
          "base_uri": "https://localhost:8080/",
          "height": 80
        }
      },
      "source": [
        "obitos_5_anos.T[['2019/02', '2019/07', '2020/02', '2020/07']]"
      ],
      "execution_count": 24,
      "outputs": [
        {
          "output_type": "execute_result",
          "data": {
            "text/html": [
              "<div>\n",
              "<style scoped>\n",
              "    .dataframe tbody tr th:only-of-type {\n",
              "        vertical-align: middle;\n",
              "    }\n",
              "\n",
              "    .dataframe tbody tr th {\n",
              "        vertical-align: top;\n",
              "    }\n",
              "\n",
              "    .dataframe thead th {\n",
              "        text-align: right;\n",
              "    }\n",
              "</style>\n",
              "<table border=\"1\" class=\"dataframe\">\n",
              "  <thead>\n",
              "    <tr style=\"text-align: right;\">\n",
              "      <th>Ano/mês</th>\n",
              "      <th>2019/02</th>\n",
              "      <th>2019/07</th>\n",
              "      <th>2020/02</th>\n",
              "      <th>2020/07</th>\n",
              "    </tr>\n",
              "  </thead>\n",
              "  <tbody>\n",
              "    <tr>\n",
              "      <th>deaths</th>\n",
              "      <td>91364</td>\n",
              "      <td>120077</td>\n",
              "      <td>91860</td>\n",
              "      <td>136728</td>\n",
              "    </tr>\n",
              "  </tbody>\n",
              "</table>\n",
              "</div>"
            ],
            "text/plain": [
              "Ano/mês  2019/02  2019/07  2020/02  2020/07\n",
              "deaths     91364   120077    91860   136728"
            ]
          },
          "metadata": {
            "tags": []
          },
          "execution_count": 24
        }
      ]
    },
    {
      "cell_type": "code",
      "metadata": {
        "id": "hDB8hfY4ASt9",
        "outputId": "72124573-05cf-41e9-ff8b-3986b1d5b3bd",
        "colab": {
          "base_uri": "https://localhost:8080/"
        }
      },
      "source": [
        "fev = (91860 / 91364) * 100 - 100\n",
        "jul = (136728 / 120077) * 100 - 100\n",
        "\n",
        "print(f'Fevereiro variou {fev:.2f}')\n",
        "print(f'Julho variou {jul:.2f}')"
      ],
      "execution_count": 31,
      "outputs": [
        {
          "output_type": "stream",
          "text": [
            "Fevereiro variou 0.54\n",
            "Julho variou 13.87\n"
          ],
          "name": "stdout"
        }
      ]
    },
    {
      "cell_type": "markdown",
      "metadata": {
        "id": "q-_4P1TZ-9CB"
      },
      "source": [
        ""
      ]
    },
    {
      "cell_type": "markdown",
      "metadata": {
        "id": "XYU6c1eY97g4"
      },
      "source": [
        "### Conclusões até aqui\n",
        "\n",
        "* Importante observar que o valor máximo de óbitos no ano quase sempre ocorre em julho e o mínimo em fevereiro.\n",
        "\n",
        "* Provavelmente o pico de óbitos em julho se justifique pelo inverno e doenças respiratórias.\n",
        "\n",
        "* Uma outra observação é que a quantidade de óbitos de Fevereiro de 2019 foi bem próxima de Fevereiro de 2020 (acréscimo de 0,54%) enquanto o mês de julho cresceu 13,87% em relação ao ano anterior.\n",
        "\n",
        "* Há uma tendência de aumento de óbitos a cada ano mas a diferença de crescimento entre os meses de fevereiro e julho são relevantes.\n",
        "\n"
      ]
    },
    {
      "cell_type": "markdown",
      "metadata": {
        "id": "thV5Hi24B1kp"
      },
      "source": [
        "### Geração de gráfico consideranto os meses de fevereiro e julho de cada ano"
      ]
    },
    {
      "cell_type": "code",
      "metadata": {
        "id": "pjqfWW7Rc0rh"
      },
      "source": [
        "obitos_julho = obitos.query('month == 2 or month == 7 ')"
      ],
      "execution_count": null,
      "outputs": []
    },
    {
      "cell_type": "code",
      "metadata": {
        "id": "NTlOR5XVo3sL",
        "colab": {
          "base_uri": "https://localhost:8080/",
          "height": 235
        },
        "outputId": "87d595a6-70eb-4c1b-81d7-565a8d8c88de"
      },
      "source": [
        "obitos_agrupados_julho = obitos_julho[['Ano/mês', 'deaths']].groupby('Ano/mês').sum()\n",
        "obitos_agrupados_julho.tail()"
      ],
      "execution_count": null,
      "outputs": [
        {
          "output_type": "execute_result",
          "data": {
            "text/html": [
              "<div>\n",
              "<style scoped>\n",
              "    .dataframe tbody tr th:only-of-type {\n",
              "        vertical-align: middle;\n",
              "    }\n",
              "\n",
              "    .dataframe tbody tr th {\n",
              "        vertical-align: top;\n",
              "    }\n",
              "\n",
              "    .dataframe thead th {\n",
              "        text-align: right;\n",
              "    }\n",
              "</style>\n",
              "<table border=\"1\" class=\"dataframe\">\n",
              "  <thead>\n",
              "    <tr style=\"text-align: right;\">\n",
              "      <th></th>\n",
              "      <th>deaths</th>\n",
              "    </tr>\n",
              "    <tr>\n",
              "      <th>Ano/mês</th>\n",
              "      <th></th>\n",
              "    </tr>\n",
              "  </thead>\n",
              "  <tbody>\n",
              "    <tr>\n",
              "      <th>2018/07</th>\n",
              "      <td>110316</td>\n",
              "    </tr>\n",
              "    <tr>\n",
              "      <th>2019/02</th>\n",
              "      <td>91364</td>\n",
              "    </tr>\n",
              "    <tr>\n",
              "      <th>2019/07</th>\n",
              "      <td>120077</td>\n",
              "    </tr>\n",
              "    <tr>\n",
              "      <th>2020/02</th>\n",
              "      <td>91860</td>\n",
              "    </tr>\n",
              "    <tr>\n",
              "      <th>2020/07</th>\n",
              "      <td>136728</td>\n",
              "    </tr>\n",
              "  </tbody>\n",
              "</table>\n",
              "</div>"
            ],
            "text/plain": [
              "         deaths\n",
              "Ano/mês        \n",
              "2018/07  110316\n",
              "2019/02   91364\n",
              "2019/07  120077\n",
              "2020/02   91860\n",
              "2020/07  136728"
            ]
          },
          "metadata": {
            "tags": []
          },
          "execution_count": 137
        }
      ]
    },
    {
      "cell_type": "code",
      "metadata": {
        "id": "q_6LIX1hp7mM",
        "colab": {
          "base_uri": "https://localhost:8080/",
          "height": 411
        },
        "outputId": "6ba93eac-e836-4b73-a05d-99ac65b11efa"
      },
      "source": [
        "obitos_agrupados_julho.plot(figsize=(12,6))"
      ],
      "execution_count": null,
      "outputs": [
        {
          "output_type": "execute_result",
          "data": {
            "text/plain": [
              "<matplotlib.axes._subplots.AxesSubplot at 0x7f80e59c9198>"
            ]
          },
          "metadata": {
            "tags": []
          },
          "execution_count": 139
        },
        {
          "output_type": "display_data",
          "data": {
            "image/png": "[encoded data removed]",
            "text/plain": [
              "<Figure size 864x432 with 1 Axes>"
            ]
          },
          "metadata": {
            "tags": []
          }
        }
      ]
    },
    {
      "cell_type": "markdown",
      "metadata": {
        "id": "AVDHn6hGCBMu"
      },
      "source": [
        "> É possível observar que o crescimento entre fevereiro e julho ocorreu de forma fora do padrão dos outros anos."
      ]
    },
    {
      "cell_type": "markdown",
      "metadata": {
        "id": "ScY9rmLkDFtk"
      },
      "source": [
        "### Avaliação de alguns dados do dataset do COVID"
      ]
    },
    {
      "cell_type": "markdown",
      "metadata": {
        "id": "MiOSsFbzDY6Y"
      },
      "source": [
        "<p>Através do Shell no Linux o arquivo original foi reduzido para o último dia (04-11-2020) que apresentou os dados acumulados das 27 UFs.</p>\n",
        "<img src='https://raw.githubusercontent.com/avellar1975/DataScience/main/img/bash.png' width=200>"
      ]
    },
    {
      "cell_type": "markdown",
      "metadata": {
        "id": "X-NEInxiC8d6"
      },
      "source": [
        "\n",
        "\n",
        "```\n",
        "$ head -1 COVID19-BRASILIO-06-11-2020.csv > covid_2020_uf.csv\n",
        "$ cat COVID19-BRASILIO-06-11-2020.csv | grep 2020-11-04 | grep state >> covid_2020_uf.csv \n",
        "```"
      ]
    },
    {
      "cell_type": "code",
      "metadata": {
        "id": "u76DJPDMCJaZ",
        "outputId": "696e8ee4-ba30-4e65-e9df-4fbf40fb0d56",
        "colab": {
          "base_uri": "https://localhost:8080/",
          "height": 309
        }
      },
      "source": [
        "dados_covid = pd.read_csv('https://raw.githubusercontent.com/avellar1975/DataScience/main/dados/covid_2020_uf.csv')\n",
        "dados_covid.head()"
      ],
      "execution_count": 33,
      "outputs": [
        {
          "output_type": "execute_result",
          "data": {
            "text/html": [
              "<div>\n",
              "<style scoped>\n",
              "    .dataframe tbody tr th:only-of-type {\n",
              "        vertical-align: middle;\n",
              "    }\n",
              "\n",
              "    .dataframe tbody tr th {\n",
              "        vertical-align: top;\n",
              "    }\n",
              "\n",
              "    .dataframe thead th {\n",
              "        text-align: right;\n",
              "    }\n",
              "</style>\n",
              "<table border=\"1\" class=\"dataframe\">\n",
              "  <thead>\n",
              "    <tr style=\"text-align: right;\">\n",
              "      <th></th>\n",
              "      <th>date</th>\n",
              "      <th>state</th>\n",
              "      <th>city</th>\n",
              "      <th>place_type</th>\n",
              "      <th>confirmed</th>\n",
              "      <th>deaths</th>\n",
              "      <th>order_for_place</th>\n",
              "      <th>is_last</th>\n",
              "      <th>estimated_population_2019</th>\n",
              "      <th>estimated_population</th>\n",
              "      <th>city_ibge_code</th>\n",
              "      <th>confirmed_per_100k_inhabitants</th>\n",
              "      <th>death_rate</th>\n",
              "    </tr>\n",
              "  </thead>\n",
              "  <tbody>\n",
              "    <tr>\n",
              "      <th>0</th>\n",
              "      <td>2020-11-04</td>\n",
              "      <td>AC</td>\n",
              "      <td>NaN</td>\n",
              "      <td>state</td>\n",
              "      <td>31218</td>\n",
              "      <td>696</td>\n",
              "      <td>233</td>\n",
              "      <td>False</td>\n",
              "      <td>881935</td>\n",
              "      <td>894470</td>\n",
              "      <td>12</td>\n",
              "      <td>3490.11146</td>\n",
              "      <td>0.0223</td>\n",
              "    </tr>\n",
              "    <tr>\n",
              "      <th>1</th>\n",
              "      <td>2020-11-04</td>\n",
              "      <td>AM</td>\n",
              "      <td>NaN</td>\n",
              "      <td>state</td>\n",
              "      <td>163399</td>\n",
              "      <td>4588</td>\n",
              "      <td>233</td>\n",
              "      <td>False</td>\n",
              "      <td>4144597</td>\n",
              "      <td>4207714</td>\n",
              "      <td>13</td>\n",
              "      <td>3883.32002</td>\n",
              "      <td>0.0281</td>\n",
              "    </tr>\n",
              "    <tr>\n",
              "      <th>2</th>\n",
              "      <td>2020-11-04</td>\n",
              "      <td>AL</td>\n",
              "      <td>NaN</td>\n",
              "      <td>state</td>\n",
              "      <td>91142</td>\n",
              "      <td>2254</td>\n",
              "      <td>239</td>\n",
              "      <td>False</td>\n",
              "      <td>3337357</td>\n",
              "      <td>3351543</td>\n",
              "      <td>27</td>\n",
              "      <td>2719.40417</td>\n",
              "      <td>0.0247</td>\n",
              "    </tr>\n",
              "    <tr>\n",
              "      <th>3</th>\n",
              "      <td>2020-11-04</td>\n",
              "      <td>DF</td>\n",
              "      <td>NaN</td>\n",
              "      <td>state</td>\n",
              "      <td>214655</td>\n",
              "      <td>3719</td>\n",
              "      <td>242</td>\n",
              "      <td>False</td>\n",
              "      <td>3015268</td>\n",
              "      <td>3055149</td>\n",
              "      <td>53</td>\n",
              "      <td>7026.00757</td>\n",
              "      <td>0.0173</td>\n",
              "    </tr>\n",
              "    <tr>\n",
              "      <th>4</th>\n",
              "      <td>2020-11-04</td>\n",
              "      <td>CE</td>\n",
              "      <td>NaN</td>\n",
              "      <td>state</td>\n",
              "      <td>276012</td>\n",
              "      <td>9385</td>\n",
              "      <td>234</td>\n",
              "      <td>False</td>\n",
              "      <td>9132078</td>\n",
              "      <td>9187103</td>\n",
              "      <td>23</td>\n",
              "      <td>3004.34207</td>\n",
              "      <td>0.0340</td>\n",
              "    </tr>\n",
              "  </tbody>\n",
              "</table>\n",
              "</div>"
            ],
            "text/plain": [
              "         date state  ...  confirmed_per_100k_inhabitants death_rate\n",
              "0  2020-11-04    AC  ...                      3490.11146     0.0223\n",
              "1  2020-11-04    AM  ...                      3883.32002     0.0281\n",
              "2  2020-11-04    AL  ...                      2719.40417     0.0247\n",
              "3  2020-11-04    DF  ...                      7026.00757     0.0173\n",
              "4  2020-11-04    CE  ...                      3004.34207     0.0340\n",
              "\n",
              "[5 rows x 13 columns]"
            ]
          },
          "metadata": {
            "tags": []
          },
          "execution_count": 33
        }
      ]
    },
    {
      "cell_type": "code",
      "metadata": {
        "id": "UvCOYtTACr-o"
      },
      "source": [
        ""
      ],
      "execution_count": null,
      "outputs": []
    }
  ]
}