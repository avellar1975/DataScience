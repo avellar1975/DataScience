{
<<<<<<< HEAD
 "cells": [
  {
   "cell_type": "markdown",
   "metadata": {},
   "source": [
    "<img src=\"../img/bootcamp.jpg\">"
   ]
  },
  {
   "cell_type": "markdown",
   "metadata": {},
   "source": [
    "# Estudo de estimativas populacionais por municípo 2000-2020"
   ]
  },
  {
   "cell_type": "markdown",
   "metadata": {},
   "source": [
    "## Importando bibliotecas"
   ]
  },
  {
   "cell_type": "code",
   "execution_count": 26,
   "metadata": {},
   "outputs": [],
   "source": [
    "import pandas as pd"
   ]
  },
  {
   "cell_type": "markdown",
   "metadata": {},
   "source": [
    "## Leitura de arquivo csv e transformando em DataFrame\n",
    "\n",
    "<p>Os arquivos foram extraídos do site <a href=\"https://datasus.saude.gov.br/informacoes-de-saude-tabnet/\" target = '_blank'>datasus</a>, opção Demográficas e Socioeconômicas >> População residente >>> Estudo de Estimativas populacionais por município, sexo e idade - 2000-2020\n",
    "</p>\n",
    "<p>Um com a coluna Unidade de Federação e o outro com o sexo\n",
    "</p>"
   ]
  },
  {
   "cell_type": "code",
   "execution_count": 29,
   "metadata": {},
   "outputs": [],
   "source": [
    "populacao = pd.read_csv('estimativa_populacional.csv', delimiter = ';')\n",
    "sexo = pd.read_csv('sexo.csv', delimiter = ';')\n"
   ]
  },
  {
   "cell_type": "markdown",
   "metadata": {},
   "source": [
    "## Criação da coluna 'UF' e preenchimento com as siglas\n",
    "<p>A forma que o arquivo foi gerado não nos ajuda muito na análise, por este razão vamos criar uma coluna UF</p>"
   ]
  },
  {
   "cell_type": "code",
   "execution_count": 31,
   "metadata": {},
   "outputs": [],
   "source": [
    "ufs = ['RO', 'AC', 'AM', 'RR', 'PA', 'AP', 'TO', 'MA', 'PI', 'CE',\n",
    "       'RN', 'PB', 'PE', 'AL', 'SE', 'BA', 'MG', 'ES', 'RJ', 'SP', 'PR', 'SC',\n",
    "       'RS', 'MS', 'MT', 'GO', 'DF']\n",
    "\n",
    "for uf in ufs:\n",
    "    for index, row in populacao.iterrows():\n",
    "        if row[uf] != '-':\n",
    "            populacao.loc[index,'UF'] = uf  "
   ]
=======
  "nbformat": 4,
  "nbformat_minor": 0,
  "metadata": {
    "kernelspec": {
      "display_name": "Python 3",
      "language": "python",
      "name": "python3"
    },
    "language_info": {
      "codemirror_mode": {
        "name": "ipython",
        "version": 3
      },
      "file_extension": ".py",
      "mimetype": "text/x-python",
      "name": "python",
      "nbconvert_exporter": "python",
      "pygments_lexer": "ipython3",
      "version": "3.7.7"
    },
    "colab": {
      "name": "estimativa_populacional_municipio.ipynb",
      "provenance": [],
      "include_colab_link": true
    }
>>>>>>> dd236079ceeb8d5c3839d87eeefcb55fea136c53
  },
  "cells": [
    {
      "cell_type": "markdown",
      "metadata": {
        "id": "view-in-github",
        "colab_type": "text"
      },
      "source": [
        "<a href=\"https://colab.research.google.com/github/avellar1975/DataScience/blob/main/jupyter_notebooks/estimativa_populacional_municipio.ipynb\" target=\"_parent\"><img src=\"https://colab.research.google.com/assets/colab-badge.svg\" alt=\"Open In Colab\"/></a>"
      ]
    },
    {
      "cell_type": "markdown",
      "metadata": {
        "id": "8QZ-_9IcBUmM"
      },
      "source": [
        "<img src=\"https://github.com/avellar1975/DataScience/raw/main/img/bootcamp.jpg\">"
      ]
    },
    {
      "cell_type": "markdown",
      "metadata": {
        "id": "8JPgOVZRBUmO"
      },
      "source": [
        "# Estudo de estimativas populacionais por municípo 2000-2020"
      ]
    },
    {
      "cell_type": "markdown",
      "metadata": {
        "id": "YVgne59cBUmP"
      },
      "source": [
        "## Importando bibliotecas"
      ]
    },
    {
      "cell_type": "code",
      "metadata": {
        "id": "ahALf21jBUmR"
      },
      "source": [
        "import pandas as pd"
      ],
      "execution_count": 1,
      "outputs": []
    },
    {
      "cell_type": "markdown",
      "metadata": {
        "id": "ioZqkv0IBUmV"
      },
      "source": [
        "## Leitura de arquivo csv e transformando em DataFrame\n",
        "\n",
        "<p>Os arquivos foram extraídos do site <a href=\"https://datasus.saude.gov.br/informacoes-de-saude-tabnet/\" target = '_blank'>datasus</a>, opção Demográficas e Socioeconômicas >> População residente >>> Estudo de Estimativas populacionais por município, sexo e idade - 2000-2020\n",
        "</p>\n",
        "<p>Um arquivo com os municípios e coluna Unidade de Federação e o outro com o número de habitantes separados por sexo.\n",
        "</p>"
      ]
    },
    {
      "cell_type": "code",
      "metadata": {
        "id": "iVZ0CUvfBUmW"
      },
      "source": [
        "populacao = pd.read_csv('https://raw.githubusercontent.com/avellar1975/DataScience/main/dados/estimativa_populacional.csv', delimiter = ';')\n",
        "sexo = pd.read_csv('https://raw.githubusercontent.com/avellar1975/DataScience/main/dados/sexo.csv', delimiter = ';')\n"
      ],
      "execution_count": 2,
      "outputs": []
    },
    {
      "cell_type": "markdown",
      "metadata": {
        "id": "3WbkPkeFBUme"
      },
      "source": [
        "## Criação da coluna 'UF' e preenchimento com as siglas\n",
        "<p>A forma que o arquivo foi gerado não nos ajuda muito na análise, por este razão vamos criar uma coluna UF</p>"
      ]
    },
    {
      "cell_type": "code",
      "metadata": {
        "id": "YZeLC1ZPBUmf"
      },
      "source": [
        "ufs = ['RO', 'AC', 'AM', 'RR', 'PA', 'AP', 'TO', 'MA', 'PI', 'CE',\n",
        "       'RN', 'PB', 'PE', 'AL', 'SE', 'BA', 'MG', 'ES', 'RJ', 'SP', 'PR', 'SC',\n",
        "       'RS', 'MS', 'MT', 'GO', 'DF']\n",
        "\n",
        "for uf in ufs:\n",
        "    for index, row in populacao.iterrows():\n",
        "        if row[uf] != '-':\n",
        "            populacao.loc[index,'UF'] = uf  "
      ],
      "execution_count": 3,
      "outputs": []
    },
    {
      "cell_type": "code",
      "metadata": {
        "id": "mWb1qjxcBUmj",
        "outputId": "0374d105-d155-49c9-d3bb-1ed249e200c7",
        "colab": {
          "base_uri": "https://localhost:8080/",
          "height": 419
        }
      },
      "source": [
        "populacao"
      ],
      "execution_count": 4,
      "outputs": [
        {
          "output_type": "execute_result",
          "data": {
            "text/html": [
              "<div>\n",
              "<style scoped>\n",
              "    .dataframe tbody tr th:only-of-type {\n",
              "        vertical-align: middle;\n",
              "    }\n",
              "\n",
              "    .dataframe tbody tr th {\n",
              "        vertical-align: top;\n",
              "    }\n",
              "\n",
              "    .dataframe thead th {\n",
              "        text-align: right;\n",
              "    }\n",
              "</style>\n",
              "<table border=\"1\" class=\"dataframe\">\n",
              "  <thead>\n",
              "    <tr style=\"text-align: right;\">\n",
              "      <th></th>\n",
              "      <th>Município</th>\n",
              "      <th>RO</th>\n",
              "      <th>AC</th>\n",
              "      <th>AM</th>\n",
              "      <th>RR</th>\n",
              "      <th>PA</th>\n",
              "      <th>AP</th>\n",
              "      <th>TO</th>\n",
              "      <th>MA</th>\n",
              "      <th>PI</th>\n",
              "      <th>CE</th>\n",
              "      <th>RN</th>\n",
              "      <th>PB</th>\n",
              "      <th>PE</th>\n",
              "      <th>AL</th>\n",
              "      <th>SE</th>\n",
              "      <th>BA</th>\n",
              "      <th>MG</th>\n",
              "      <th>ES</th>\n",
              "      <th>RJ</th>\n",
              "      <th>SP</th>\n",
              "      <th>PR</th>\n",
              "      <th>SC</th>\n",
              "      <th>RS</th>\n",
              "      <th>MS</th>\n",
              "      <th>MT</th>\n",
              "      <th>GO</th>\n",
              "      <th>DF</th>\n",
              "      <th>Total</th>\n",
              "      <th>UF</th>\n",
              "    </tr>\n",
              "  </thead>\n",
              "  <tbody>\n",
              "    <tr>\n",
              "      <th>0</th>\n",
              "      <td>110001 Alta Floresta D'Oeste</td>\n",
              "      <td>22728</td>\n",
              "      <td>-</td>\n",
              "      <td>-</td>\n",
              "      <td>-</td>\n",
              "      <td>-</td>\n",
              "      <td>-</td>\n",
              "      <td>-</td>\n",
              "      <td>-</td>\n",
              "      <td>-</td>\n",
              "      <td>-</td>\n",
              "      <td>-</td>\n",
              "      <td>-</td>\n",
              "      <td>-</td>\n",
              "      <td>-</td>\n",
              "      <td>-</td>\n",
              "      <td>-</td>\n",
              "      <td>-</td>\n",
              "      <td>-</td>\n",
              "      <td>-</td>\n",
              "      <td>-</td>\n",
              "      <td>-</td>\n",
              "      <td>-</td>\n",
              "      <td>-</td>\n",
              "      <td>-</td>\n",
              "      <td>-</td>\n",
              "      <td>-</td>\n",
              "      <td>-</td>\n",
              "      <td>22728</td>\n",
              "      <td>RO</td>\n",
              "    </tr>\n",
              "    <tr>\n",
              "      <th>1</th>\n",
              "      <td>110037 Alto Alegre dos Parecis</td>\n",
              "      <td>13255</td>\n",
              "      <td>-</td>\n",
              "      <td>-</td>\n",
              "      <td>-</td>\n",
              "      <td>-</td>\n",
              "      <td>-</td>\n",
              "      <td>-</td>\n",
              "      <td>-</td>\n",
              "      <td>-</td>\n",
              "      <td>-</td>\n",
              "      <td>-</td>\n",
              "      <td>-</td>\n",
              "      <td>-</td>\n",
              "      <td>-</td>\n",
              "      <td>-</td>\n",
              "      <td>-</td>\n",
              "      <td>-</td>\n",
              "      <td>-</td>\n",
              "      <td>-</td>\n",
              "      <td>-</td>\n",
              "      <td>-</td>\n",
              "      <td>-</td>\n",
              "      <td>-</td>\n",
              "      <td>-</td>\n",
              "      <td>-</td>\n",
              "      <td>-</td>\n",
              "      <td>-</td>\n",
              "      <td>13255</td>\n",
              "      <td>RO</td>\n",
              "    </tr>\n",
              "    <tr>\n",
              "      <th>2</th>\n",
              "      <td>110040 Alto Paraíso</td>\n",
              "      <td>21847</td>\n",
              "      <td>-</td>\n",
              "      <td>-</td>\n",
              "      <td>-</td>\n",
              "      <td>-</td>\n",
              "      <td>-</td>\n",
              "      <td>-</td>\n",
              "      <td>-</td>\n",
              "      <td>-</td>\n",
              "      <td>-</td>\n",
              "      <td>-</td>\n",
              "      <td>-</td>\n",
              "      <td>-</td>\n",
              "      <td>-</td>\n",
              "      <td>-</td>\n",
              "      <td>-</td>\n",
              "      <td>-</td>\n",
              "      <td>-</td>\n",
              "      <td>-</td>\n",
              "      <td>-</td>\n",
              "      <td>-</td>\n",
              "      <td>-</td>\n",
              "      <td>-</td>\n",
              "      <td>-</td>\n",
              "      <td>-</td>\n",
              "      <td>-</td>\n",
              "      <td>-</td>\n",
              "      <td>21847</td>\n",
              "      <td>RO</td>\n",
              "    </tr>\n",
              "    <tr>\n",
              "      <th>3</th>\n",
              "      <td>110034 Alvorada D'Oeste</td>\n",
              "      <td>14106</td>\n",
              "      <td>-</td>\n",
              "      <td>-</td>\n",
              "      <td>-</td>\n",
              "      <td>-</td>\n",
              "      <td>-</td>\n",
              "      <td>-</td>\n",
              "      <td>-</td>\n",
              "      <td>-</td>\n",
              "      <td>-</td>\n",
              "      <td>-</td>\n",
              "      <td>-</td>\n",
              "      <td>-</td>\n",
              "      <td>-</td>\n",
              "      <td>-</td>\n",
              "      <td>-</td>\n",
              "      <td>-</td>\n",
              "      <td>-</td>\n",
              "      <td>-</td>\n",
              "      <td>-</td>\n",
              "      <td>-</td>\n",
              "      <td>-</td>\n",
              "      <td>-</td>\n",
              "      <td>-</td>\n",
              "      <td>-</td>\n",
              "      <td>-</td>\n",
              "      <td>-</td>\n",
              "      <td>14106</td>\n",
              "      <td>RO</td>\n",
              "    </tr>\n",
              "    <tr>\n",
              "      <th>4</th>\n",
              "      <td>110002 Ariquemes</td>\n",
              "      <td>109523</td>\n",
              "      <td>-</td>\n",
              "      <td>-</td>\n",
              "      <td>-</td>\n",
              "      <td>-</td>\n",
              "      <td>-</td>\n",
              "      <td>-</td>\n",
              "      <td>-</td>\n",
              "      <td>-</td>\n",
              "      <td>-</td>\n",
              "      <td>-</td>\n",
              "      <td>-</td>\n",
              "      <td>-</td>\n",
              "      <td>-</td>\n",
              "      <td>-</td>\n",
              "      <td>-</td>\n",
              "      <td>-</td>\n",
              "      <td>-</td>\n",
              "      <td>-</td>\n",
              "      <td>-</td>\n",
              "      <td>-</td>\n",
              "      <td>-</td>\n",
              "      <td>-</td>\n",
              "      <td>-</td>\n",
              "      <td>-</td>\n",
              "      <td>-</td>\n",
              "      <td>-</td>\n",
              "      <td>109523</td>\n",
              "      <td>RO</td>\n",
              "    </tr>\n",
              "    <tr>\n",
              "      <th>...</th>\n",
              "      <td>...</td>\n",
              "      <td>...</td>\n",
              "      <td>...</td>\n",
              "      <td>...</td>\n",
              "      <td>...</td>\n",
              "      <td>...</td>\n",
              "      <td>...</td>\n",
              "      <td>...</td>\n",
              "      <td>...</td>\n",
              "      <td>...</td>\n",
              "      <td>...</td>\n",
              "      <td>...</td>\n",
              "      <td>...</td>\n",
              "      <td>...</td>\n",
              "      <td>...</td>\n",
              "      <td>...</td>\n",
              "      <td>...</td>\n",
              "      <td>...</td>\n",
              "      <td>...</td>\n",
              "      <td>...</td>\n",
              "      <td>...</td>\n",
              "      <td>...</td>\n",
              "      <td>...</td>\n",
              "      <td>...</td>\n",
              "      <td>...</td>\n",
              "      <td>...</td>\n",
              "      <td>...</td>\n",
              "      <td>...</td>\n",
              "      <td>...</td>\n",
              "      <td>...</td>\n",
              "    </tr>\n",
              "    <tr>\n",
              "      <th>5565</th>\n",
              "      <td>522200 Vianópolis</td>\n",
              "      <td>-</td>\n",
              "      <td>-</td>\n",
              "      <td>-</td>\n",
              "      <td>-</td>\n",
              "      <td>-</td>\n",
              "      <td>-</td>\n",
              "      <td>-</td>\n",
              "      <td>-</td>\n",
              "      <td>-</td>\n",
              "      <td>-</td>\n",
              "      <td>-</td>\n",
              "      <td>-</td>\n",
              "      <td>-</td>\n",
              "      <td>-</td>\n",
              "      <td>-</td>\n",
              "      <td>-</td>\n",
              "      <td>-</td>\n",
              "      <td>-</td>\n",
              "      <td>-</td>\n",
              "      <td>-</td>\n",
              "      <td>-</td>\n",
              "      <td>-</td>\n",
              "      <td>-</td>\n",
              "      <td>-</td>\n",
              "      <td>-</td>\n",
              "      <td>13977</td>\n",
              "      <td>-</td>\n",
              "      <td>13977</td>\n",
              "      <td>GO</td>\n",
              "    </tr>\n",
              "    <tr>\n",
              "      <th>5566</th>\n",
              "      <td>522205 Vicentinópolis</td>\n",
              "      <td>-</td>\n",
              "      <td>-</td>\n",
              "      <td>-</td>\n",
              "      <td>-</td>\n",
              "      <td>-</td>\n",
              "      <td>-</td>\n",
              "      <td>-</td>\n",
              "      <td>-</td>\n",
              "      <td>-</td>\n",
              "      <td>-</td>\n",
              "      <td>-</td>\n",
              "      <td>-</td>\n",
              "      <td>-</td>\n",
              "      <td>-</td>\n",
              "      <td>-</td>\n",
              "      <td>-</td>\n",
              "      <td>-</td>\n",
              "      <td>-</td>\n",
              "      <td>-</td>\n",
              "      <td>-</td>\n",
              "      <td>-</td>\n",
              "      <td>-</td>\n",
              "      <td>-</td>\n",
              "      <td>-</td>\n",
              "      <td>-</td>\n",
              "      <td>8873</td>\n",
              "      <td>-</td>\n",
              "      <td>8873</td>\n",
              "      <td>GO</td>\n",
              "    </tr>\n",
              "    <tr>\n",
              "      <th>5567</th>\n",
              "      <td>522220 Vila Boa</td>\n",
              "      <td>-</td>\n",
              "      <td>-</td>\n",
              "      <td>-</td>\n",
              "      <td>-</td>\n",
              "      <td>-</td>\n",
              "      <td>-</td>\n",
              "      <td>-</td>\n",
              "      <td>-</td>\n",
              "      <td>-</td>\n",
              "      <td>-</td>\n",
              "      <td>-</td>\n",
              "      <td>-</td>\n",
              "      <td>-</td>\n",
              "      <td>-</td>\n",
              "      <td>-</td>\n",
              "      <td>-</td>\n",
              "      <td>-</td>\n",
              "      <td>-</td>\n",
              "      <td>-</td>\n",
              "      <td>-</td>\n",
              "      <td>-</td>\n",
              "      <td>-</td>\n",
              "      <td>-</td>\n",
              "      <td>-</td>\n",
              "      <td>-</td>\n",
              "      <td>6312</td>\n",
              "      <td>-</td>\n",
              "      <td>6312</td>\n",
              "      <td>GO</td>\n",
              "    </tr>\n",
              "    <tr>\n",
              "      <th>5568</th>\n",
              "      <td>522230 Vila Propício</td>\n",
              "      <td>-</td>\n",
              "      <td>-</td>\n",
              "      <td>-</td>\n",
              "      <td>-</td>\n",
              "      <td>-</td>\n",
              "      <td>-</td>\n",
              "      <td>-</td>\n",
              "      <td>-</td>\n",
              "      <td>-</td>\n",
              "      <td>-</td>\n",
              "      <td>-</td>\n",
              "      <td>-</td>\n",
              "      <td>-</td>\n",
              "      <td>-</td>\n",
              "      <td>-</td>\n",
              "      <td>-</td>\n",
              "      <td>-</td>\n",
              "      <td>-</td>\n",
              "      <td>-</td>\n",
              "      <td>-</td>\n",
              "      <td>-</td>\n",
              "      <td>-</td>\n",
              "      <td>-</td>\n",
              "      <td>-</td>\n",
              "      <td>-</td>\n",
              "      <td>5882</td>\n",
              "      <td>-</td>\n",
              "      <td>5882</td>\n",
              "      <td>GO</td>\n",
              "    </tr>\n",
              "    <tr>\n",
              "      <th>5569</th>\n",
              "      <td>530010 Brasília</td>\n",
              "      <td>-</td>\n",
              "      <td>-</td>\n",
              "      <td>-</td>\n",
              "      <td>-</td>\n",
              "      <td>-</td>\n",
              "      <td>-</td>\n",
              "      <td>-</td>\n",
              "      <td>-</td>\n",
              "      <td>-</td>\n",
              "      <td>-</td>\n",
              "      <td>-</td>\n",
              "      <td>-</td>\n",
              "      <td>-</td>\n",
              "      <td>-</td>\n",
              "      <td>-</td>\n",
              "      <td>-</td>\n",
              "      <td>-</td>\n",
              "      <td>-</td>\n",
              "      <td>-</td>\n",
              "      <td>-</td>\n",
              "      <td>-</td>\n",
              "      <td>-</td>\n",
              "      <td>-</td>\n",
              "      <td>-</td>\n",
              "      <td>-</td>\n",
              "      <td>-</td>\n",
              "      <td>3055149</td>\n",
              "      <td>3055149</td>\n",
              "      <td>DF</td>\n",
              "    </tr>\n",
              "  </tbody>\n",
              "</table>\n",
              "<p>5570 rows × 30 columns</p>\n",
              "</div>"
            ],
            "text/plain": [
              "                           Município      RO AC AM  ...     GO       DF    Total  UF\n",
              "0       110001 Alta Floresta D'Oeste   22728  -  -  ...      -        -    22728  RO\n",
              "1     110037 Alto Alegre dos Parecis   13255  -  -  ...      -        -    13255  RO\n",
              "2                110040 Alto Paraíso   21847  -  -  ...      -        -    21847  RO\n",
              "3            110034 Alvorada D'Oeste   14106  -  -  ...      -        -    14106  RO\n",
              "4                   110002 Ariquemes  109523  -  -  ...      -        -   109523  RO\n",
              "...                              ...     ... .. ..  ...    ...      ...      ...  ..\n",
              "5565               522200 Vianópolis       -  -  -  ...  13977        -    13977  GO\n",
              "5566           522205 Vicentinópolis       -  -  -  ...   8873        -     8873  GO\n",
              "5567                 522220 Vila Boa       -  -  -  ...   6312        -     6312  GO\n",
              "5568            522230 Vila Propício       -  -  -  ...   5882        -     5882  GO\n",
              "5569                 530010 Brasília       -  -  -  ...      -  3055149  3055149  DF\n",
              "\n",
              "[5570 rows x 30 columns]"
            ]
          },
          "metadata": {
            "tags": []
          },
          "execution_count": 4
        }
      ]
    },
    {
      "cell_type": "markdown",
      "metadata": {
        "id": "pSv2Hc52BUmn"
      },
      "source": [
        "## Reduzindo o número de colunas"
      ]
    },
    {
      "cell_type": "code",
      "metadata": {
        "id": "Pp6XwKjvBUmo",
        "outputId": "08af1f70-50e4-4c41-98cc-06769d292b2f",
        "colab": {
          "base_uri": "https://localhost:8080/",
          "height": 419
        }
      },
      "source": [
        "populacao = populacao[['Município', 'UF', 'Total']]\n",
        "populacao"
      ],
      "execution_count": 5,
      "outputs": [
        {
          "output_type": "execute_result",
          "data": {
            "text/html": [
              "<div>\n",
              "<style scoped>\n",
              "    .dataframe tbody tr th:only-of-type {\n",
              "        vertical-align: middle;\n",
              "    }\n",
              "\n",
              "    .dataframe tbody tr th {\n",
              "        vertical-align: top;\n",
              "    }\n",
              "\n",
              "    .dataframe thead th {\n",
              "        text-align: right;\n",
              "    }\n",
              "</style>\n",
              "<table border=\"1\" class=\"dataframe\">\n",
              "  <thead>\n",
              "    <tr style=\"text-align: right;\">\n",
              "      <th></th>\n",
              "      <th>Município</th>\n",
              "      <th>UF</th>\n",
              "      <th>Total</th>\n",
              "    </tr>\n",
              "  </thead>\n",
              "  <tbody>\n",
              "    <tr>\n",
              "      <th>0</th>\n",
              "      <td>110001 Alta Floresta D'Oeste</td>\n",
              "      <td>RO</td>\n",
              "      <td>22728</td>\n",
              "    </tr>\n",
              "    <tr>\n",
              "      <th>1</th>\n",
              "      <td>110037 Alto Alegre dos Parecis</td>\n",
              "      <td>RO</td>\n",
              "      <td>13255</td>\n",
              "    </tr>\n",
              "    <tr>\n",
              "      <th>2</th>\n",
              "      <td>110040 Alto Paraíso</td>\n",
              "      <td>RO</td>\n",
              "      <td>21847</td>\n",
              "    </tr>\n",
              "    <tr>\n",
              "      <th>3</th>\n",
              "      <td>110034 Alvorada D'Oeste</td>\n",
              "      <td>RO</td>\n",
              "      <td>14106</td>\n",
              "    </tr>\n",
              "    <tr>\n",
              "      <th>4</th>\n",
              "      <td>110002 Ariquemes</td>\n",
              "      <td>RO</td>\n",
              "      <td>109523</td>\n",
              "    </tr>\n",
              "    <tr>\n",
              "      <th>...</th>\n",
              "      <td>...</td>\n",
              "      <td>...</td>\n",
              "      <td>...</td>\n",
              "    </tr>\n",
              "    <tr>\n",
              "      <th>5565</th>\n",
              "      <td>522200 Vianópolis</td>\n",
              "      <td>GO</td>\n",
              "      <td>13977</td>\n",
              "    </tr>\n",
              "    <tr>\n",
              "      <th>5566</th>\n",
              "      <td>522205 Vicentinópolis</td>\n",
              "      <td>GO</td>\n",
              "      <td>8873</td>\n",
              "    </tr>\n",
              "    <tr>\n",
              "      <th>5567</th>\n",
              "      <td>522220 Vila Boa</td>\n",
              "      <td>GO</td>\n",
              "      <td>6312</td>\n",
              "    </tr>\n",
              "    <tr>\n",
              "      <th>5568</th>\n",
              "      <td>522230 Vila Propício</td>\n",
              "      <td>GO</td>\n",
              "      <td>5882</td>\n",
              "    </tr>\n",
              "    <tr>\n",
              "      <th>5569</th>\n",
              "      <td>530010 Brasília</td>\n",
              "      <td>DF</td>\n",
              "      <td>3055149</td>\n",
              "    </tr>\n",
              "  </tbody>\n",
              "</table>\n",
              "<p>5570 rows × 3 columns</p>\n",
              "</div>"
            ],
            "text/plain": [
              "                           Município  UF    Total\n",
              "0       110001 Alta Floresta D'Oeste  RO    22728\n",
              "1     110037 Alto Alegre dos Parecis  RO    13255\n",
              "2                110040 Alto Paraíso  RO    21847\n",
              "3            110034 Alvorada D'Oeste  RO    14106\n",
              "4                   110002 Ariquemes  RO   109523\n",
              "...                              ...  ..      ...\n",
              "5565               522200 Vianópolis  GO    13977\n",
              "5566           522205 Vicentinópolis  GO     8873\n",
              "5567                 522220 Vila Boa  GO     6312\n",
              "5568            522230 Vila Propício  GO     5882\n",
              "5569                 530010 Brasília  DF  3055149\n",
              "\n",
              "[5570 rows x 3 columns]"
            ]
          },
          "metadata": {
            "tags": []
          },
          "execution_count": 5
        }
      ]
    },
    {
      "cell_type": "code",
      "metadata": {
        "id": "mFDudRAiBUmv",
        "outputId": "c2a43258-21e6-4fc4-8a12-6989ec7b5d38",
        "colab": {
          "base_uri": "https://localhost:8080/",
          "height": 419
        }
      },
      "source": [
        "municipios = populacao.join(sexo.set_index(['Município', 'Total']), on=['Município', 'Total'])\n",
        "municipios"
      ],
      "execution_count": 6,
      "outputs": [
        {
          "output_type": "execute_result",
          "data": {
            "text/html": [
              "<div>\n",
              "<style scoped>\n",
              "    .dataframe tbody tr th:only-of-type {\n",
              "        vertical-align: middle;\n",
              "    }\n",
              "\n",
              "    .dataframe tbody tr th {\n",
              "        vertical-align: top;\n",
              "    }\n",
              "\n",
              "    .dataframe thead th {\n",
              "        text-align: right;\n",
              "    }\n",
              "</style>\n",
              "<table border=\"1\" class=\"dataframe\">\n",
              "  <thead>\n",
              "    <tr style=\"text-align: right;\">\n",
              "      <th></th>\n",
              "      <th>Município</th>\n",
              "      <th>UF</th>\n",
              "      <th>Total</th>\n",
              "      <th>Masculino</th>\n",
              "      <th>Feminino</th>\n",
              "    </tr>\n",
              "  </thead>\n",
              "  <tbody>\n",
              "    <tr>\n",
              "      <th>0</th>\n",
              "      <td>110001 Alta Floresta D'Oeste</td>\n",
              "      <td>RO</td>\n",
              "      <td>22728</td>\n",
              "      <td>11631</td>\n",
              "      <td>11097</td>\n",
              "    </tr>\n",
              "    <tr>\n",
              "      <th>1</th>\n",
              "      <td>110037 Alto Alegre dos Parecis</td>\n",
              "      <td>RO</td>\n",
              "      <td>13255</td>\n",
              "      <td>6764</td>\n",
              "      <td>6491</td>\n",
              "    </tr>\n",
              "    <tr>\n",
              "      <th>2</th>\n",
              "      <td>110040 Alto Paraíso</td>\n",
              "      <td>RO</td>\n",
              "      <td>21847</td>\n",
              "      <td>11154</td>\n",
              "      <td>10693</td>\n",
              "    </tr>\n",
              "    <tr>\n",
              "      <th>3</th>\n",
              "      <td>110034 Alvorada D'Oeste</td>\n",
              "      <td>RO</td>\n",
              "      <td>14106</td>\n",
              "      <td>7134</td>\n",
              "      <td>6972</td>\n",
              "    </tr>\n",
              "    <tr>\n",
              "      <th>4</th>\n",
              "      <td>110002 Ariquemes</td>\n",
              "      <td>RO</td>\n",
              "      <td>109523</td>\n",
              "      <td>54747</td>\n",
              "      <td>54776</td>\n",
              "    </tr>\n",
              "    <tr>\n",
              "      <th>...</th>\n",
              "      <td>...</td>\n",
              "      <td>...</td>\n",
              "      <td>...</td>\n",
              "      <td>...</td>\n",
              "      <td>...</td>\n",
              "    </tr>\n",
              "    <tr>\n",
              "      <th>5565</th>\n",
              "      <td>522200 Vianópolis</td>\n",
              "      <td>GO</td>\n",
              "      <td>13977</td>\n",
              "      <td>6934</td>\n",
              "      <td>7043</td>\n",
              "    </tr>\n",
              "    <tr>\n",
              "      <th>5566</th>\n",
              "      <td>522205 Vicentinópolis</td>\n",
              "      <td>GO</td>\n",
              "      <td>8873</td>\n",
              "      <td>4704</td>\n",
              "      <td>4169</td>\n",
              "    </tr>\n",
              "    <tr>\n",
              "      <th>5567</th>\n",
              "      <td>522220 Vila Boa</td>\n",
              "      <td>GO</td>\n",
              "      <td>6312</td>\n",
              "      <td>3646</td>\n",
              "      <td>2666</td>\n",
              "    </tr>\n",
              "    <tr>\n",
              "      <th>5568</th>\n",
              "      <td>522230 Vila Propício</td>\n",
              "      <td>GO</td>\n",
              "      <td>5882</td>\n",
              "      <td>3027</td>\n",
              "      <td>2855</td>\n",
              "    </tr>\n",
              "    <tr>\n",
              "      <th>5569</th>\n",
              "      <td>530010 Brasília</td>\n",
              "      <td>DF</td>\n",
              "      <td>3055149</td>\n",
              "      <td>1468025</td>\n",
              "      <td>1587124</td>\n",
              "    </tr>\n",
              "  </tbody>\n",
              "</table>\n",
              "<p>5570 rows × 5 columns</p>\n",
              "</div>"
            ],
            "text/plain": [
              "                           Município  UF    Total  Masculino  Feminino\n",
              "0       110001 Alta Floresta D'Oeste  RO    22728      11631     11097\n",
              "1     110037 Alto Alegre dos Parecis  RO    13255       6764      6491\n",
              "2                110040 Alto Paraíso  RO    21847      11154     10693\n",
              "3            110034 Alvorada D'Oeste  RO    14106       7134      6972\n",
              "4                   110002 Ariquemes  RO   109523      54747     54776\n",
              "...                              ...  ..      ...        ...       ...\n",
              "5565               522200 Vianópolis  GO    13977       6934      7043\n",
              "5566           522205 Vicentinópolis  GO     8873       4704      4169\n",
              "5567                 522220 Vila Boa  GO     6312       3646      2666\n",
              "5568            522230 Vila Propício  GO     5882       3027      2855\n",
              "5569                 530010 Brasília  DF  3055149    1468025   1587124\n",
              "\n",
              "[5570 rows x 5 columns]"
            ]
          },
          "metadata": {
            "tags": []
          },
          "execution_count": 6
        }
      ]
    },
    {
      "cell_type": "markdown",
      "metadata": {
        "id": "kXVJ_1P_BUm1"
      },
      "source": [
        "## Alterando a ordem das colunas"
      ]
    },
    {
      "cell_type": "code",
      "metadata": {
        "id": "Z0Xrf7PgBUm2",
        "outputId": "4def7f28-17c1-4cc4-cd86-804ee5d4ad95",
        "colab": {
          "base_uri": "https://localhost:8080/",
          "height": 419
        }
      },
      "source": [
        "municipios = municipios[['Município', 'UF', 'Masculino', 'Feminino', 'Total']]\n",
        "municipios"
      ],
      "execution_count": 7,
      "outputs": [
        {
          "output_type": "execute_result",
          "data": {
            "text/html": [
              "<div>\n",
              "<style scoped>\n",
              "    .dataframe tbody tr th:only-of-type {\n",
              "        vertical-align: middle;\n",
              "    }\n",
              "\n",
              "    .dataframe tbody tr th {\n",
              "        vertical-align: top;\n",
              "    }\n",
              "\n",
              "    .dataframe thead th {\n",
              "        text-align: right;\n",
              "    }\n",
              "</style>\n",
              "<table border=\"1\" class=\"dataframe\">\n",
              "  <thead>\n",
              "    <tr style=\"text-align: right;\">\n",
              "      <th></th>\n",
              "      <th>Município</th>\n",
              "      <th>UF</th>\n",
              "      <th>Masculino</th>\n",
              "      <th>Feminino</th>\n",
              "      <th>Total</th>\n",
              "    </tr>\n",
              "  </thead>\n",
              "  <tbody>\n",
              "    <tr>\n",
              "      <th>0</th>\n",
              "      <td>110001 Alta Floresta D'Oeste</td>\n",
              "      <td>RO</td>\n",
              "      <td>11631</td>\n",
              "      <td>11097</td>\n",
              "      <td>22728</td>\n",
              "    </tr>\n",
              "    <tr>\n",
              "      <th>1</th>\n",
              "      <td>110037 Alto Alegre dos Parecis</td>\n",
              "      <td>RO</td>\n",
              "      <td>6764</td>\n",
              "      <td>6491</td>\n",
              "      <td>13255</td>\n",
              "    </tr>\n",
              "    <tr>\n",
              "      <th>2</th>\n",
              "      <td>110040 Alto Paraíso</td>\n",
              "      <td>RO</td>\n",
              "      <td>11154</td>\n",
              "      <td>10693</td>\n",
              "      <td>21847</td>\n",
              "    </tr>\n",
              "    <tr>\n",
              "      <th>3</th>\n",
              "      <td>110034 Alvorada D'Oeste</td>\n",
              "      <td>RO</td>\n",
              "      <td>7134</td>\n",
              "      <td>6972</td>\n",
              "      <td>14106</td>\n",
              "    </tr>\n",
              "    <tr>\n",
              "      <th>4</th>\n",
              "      <td>110002 Ariquemes</td>\n",
              "      <td>RO</td>\n",
              "      <td>54747</td>\n",
              "      <td>54776</td>\n",
              "      <td>109523</td>\n",
              "    </tr>\n",
              "    <tr>\n",
              "      <th>...</th>\n",
              "      <td>...</td>\n",
              "      <td>...</td>\n",
              "      <td>...</td>\n",
              "      <td>...</td>\n",
              "      <td>...</td>\n",
              "    </tr>\n",
              "    <tr>\n",
              "      <th>5565</th>\n",
              "      <td>522200 Vianópolis</td>\n",
              "      <td>GO</td>\n",
              "      <td>6934</td>\n",
              "      <td>7043</td>\n",
              "      <td>13977</td>\n",
              "    </tr>\n",
              "    <tr>\n",
              "      <th>5566</th>\n",
              "      <td>522205 Vicentinópolis</td>\n",
              "      <td>GO</td>\n",
              "      <td>4704</td>\n",
              "      <td>4169</td>\n",
              "      <td>8873</td>\n",
              "    </tr>\n",
              "    <tr>\n",
              "      <th>5567</th>\n",
              "      <td>522220 Vila Boa</td>\n",
              "      <td>GO</td>\n",
              "      <td>3646</td>\n",
              "      <td>2666</td>\n",
              "      <td>6312</td>\n",
              "    </tr>\n",
              "    <tr>\n",
              "      <th>5568</th>\n",
              "      <td>522230 Vila Propício</td>\n",
              "      <td>GO</td>\n",
              "      <td>3027</td>\n",
              "      <td>2855</td>\n",
              "      <td>5882</td>\n",
              "    </tr>\n",
              "    <tr>\n",
              "      <th>5569</th>\n",
              "      <td>530010 Brasília</td>\n",
              "      <td>DF</td>\n",
              "      <td>1468025</td>\n",
              "      <td>1587124</td>\n",
              "      <td>3055149</td>\n",
              "    </tr>\n",
              "  </tbody>\n",
              "</table>\n",
              "<p>5570 rows × 5 columns</p>\n",
              "</div>"
            ],
            "text/plain": [
              "                           Município  UF  Masculino  Feminino    Total\n",
              "0       110001 Alta Floresta D'Oeste  RO      11631     11097    22728\n",
              "1     110037 Alto Alegre dos Parecis  RO       6764      6491    13255\n",
              "2                110040 Alto Paraíso  RO      11154     10693    21847\n",
              "3            110034 Alvorada D'Oeste  RO       7134      6972    14106\n",
              "4                   110002 Ariquemes  RO      54747     54776   109523\n",
              "...                              ...  ..        ...       ...      ...\n",
              "5565               522200 Vianópolis  GO       6934      7043    13977\n",
              "5566           522205 Vicentinópolis  GO       4704      4169     8873\n",
              "5567                 522220 Vila Boa  GO       3646      2666     6312\n",
              "5568            522230 Vila Propício  GO       3027      2855     5882\n",
              "5569                 530010 Brasília  DF    1468025   1587124  3055149\n",
              "\n",
              "[5570 rows x 5 columns]"
            ]
          },
          "metadata": {
            "tags": []
          },
          "execution_count": 7
        }
      ]
    },
    {
      "cell_type": "markdown",
      "metadata": {
        "id": "QMnXOvZIBUm6"
      },
      "source": [
        "---"
      ]
    },
    {
      "cell_type": "markdown",
      "metadata": {
        "id": "sRbmFn0wBUm7"
      },
      "source": [
        "#### Fonte de dados:\n",
        "* http://tabnet.datasus.gov.br/cgi/deftohtm.exe?popsvs/cnv/popbr.def (dados populacionais estimados por cidade)\n",
        "* https://datasus.saude.gov.br/informacoes-de-saude-tabnet/"
      ]
    },
    {
      "cell_type": "code",
      "metadata": {
        "id": "erp6Cn6kBUm8"
      },
      "source": [
        ""
      ],
      "execution_count": 7,
      "outputs": []
    }
<<<<<<< HEAD
   ],
   "source": [
    "municipios = municipios[['Município', 'UF', 'Masculino', 'Feminino', 'Total']]\n",
    "municipios"
   ]
  },
  {
   "cell_type": "markdown",
   "metadata": {},
   "source": [
    "## Trabalhando com coordendas"
   ]
  },
  {
   "cell_type": "code",
   "execution_count": 2,
   "metadata": {},
   "outputs": [
    {
     "name": "stderr",
     "output_type": "stream",
     "text": [
      "WARNING: Retrying (Retry(total=4, connect=None, read=None, redirect=None, status=None)) after connection broken by 'NewConnectionError('<pip._vendor.urllib3.connection.VerifiedHTTPSConnection object at 0x0000019DF9103B88>: Failed to establish a new connection: [Errno 11001] getaddrinfo failed')': /simple/geopandas/\n",
      "WARNING: Retrying (Retry(total=3, connect=None, read=None, redirect=None, status=None)) after connection broken by 'NewConnectionError('<pip._vendor.urllib3.connection.VerifiedHTTPSConnection object at 0x0000019DF9103588>: Failed to establish a new connection: [Errno 11001] getaddrinfo failed')': /simple/geopandas/\n",
      "WARNING: Retrying (Retry(total=2, connect=None, read=None, redirect=None, status=None)) after connection broken by 'NewConnectionError('<pip._vendor.urllib3.connection.VerifiedHTTPSConnection object at 0x0000019DF937D088>: Failed to establish a new connection: [Errno 11001] getaddrinfo failed')': /simple/geopandas/\n",
      "WARNING: Retrying (Retry(total=1, connect=None, read=None, redirect=None, status=None)) after connection broken by 'NewConnectionError('<pip._vendor.urllib3.connection.VerifiedHTTPSConnection object at 0x0000019DF937FEC8>: Failed to establish a new connection: [Errno 11001] getaddrinfo failed')': /simple/geopandas/\n",
      "WARNING: Retrying (Retry(total=0, connect=None, read=None, redirect=None, status=None)) after connection broken by 'NewConnectionError('<pip._vendor.urllib3.connection.VerifiedHTTPSConnection object at 0x0000019DF937F488>: Failed to establish a new connection: [Errno 11001] getaddrinfo failed')': /simple/geopandas/\n",
      "ERROR: Could not find a version that satisfies the requirement geopandas (from versions: none)\n",
      "ERROR: No matching distribution found for geopandas\n"
     ]
    }
   ],
   "source": [
    "!pip install geopandas"
   ]
  },
  {
   "cell_type": "code",
   "execution_count": 1,
   "metadata": {},
   "outputs": [
    {
     "ename": "ModuleNotFoundError",
     "evalue": "No module named 'geopandas'",
     "output_type": "error",
     "traceback": [
      "\u001b[1;31m---------------------------------------------------------------------------\u001b[0m",
      "\u001b[1;31mModuleNotFoundError\u001b[0m                       Traceback (most recent call last)",
      "\u001b[1;32m<ipython-input-1-a62d01c1d62e>\u001b[0m in \u001b[0;36m<module>\u001b[1;34m\u001b[0m\n\u001b[1;32m----> 1\u001b[1;33m \u001b[1;32mimport\u001b[0m \u001b[0mgeopandas\u001b[0m \u001b[1;32mas\u001b[0m \u001b[0mgpd\u001b[0m\u001b[1;33m\u001b[0m\u001b[1;33m\u001b[0m\u001b[0m\n\u001b[0m",
      "\u001b[1;31mModuleNotFoundError\u001b[0m: No module named 'geopandas'"
     ]
    }
   ],
   "source": [
    "import geopandas as gpd"
   ]
  },
  {
   "cell_type": "code",
   "execution_count": null,
   "metadata": {},
   "outputs": [],
   "source": [
    "municipios = geopandas.read_file('dados/ne_110m_admin_0_countries.shp')"
   ]
  },
  {
   "cell_type": "markdown",
   "metadata": {},
   "source": [
    "---"
   ]
  },
  {
   "cell_type": "markdown",
   "metadata": {},
   "source": [
    "#### Fonte de dados:\n",
    "* http://tabnet.datasus.gov.br/cgi/deftohtm.exe?popsvs/cnv/popbr.def (dados populacionais estimados por cidade)\n",
    "* https://datasus.saude.gov.br/informacoes-de-saude-tabnet/\n",
    "* https://www.ibge.gov.br/geociencias/organizacao-do-territorio/15774-malhas.html?=&t=downloads"
   ]
  },
  {
   "cell_type": "code",
   "execution_count": null,
   "metadata": {},
   "outputs": [],
   "source": []
  }
 ],
 "metadata": {
  "kernelspec": {
   "display_name": "Python 3",
   "language": "python",
   "name": "python3"
  },
  "language_info": {
   "codemirror_mode": {
    "name": "ipython",
    "version": 3
   },
   "file_extension": ".py",
   "mimetype": "text/x-python",
   "name": "python",
   "nbconvert_exporter": "python",
   "pygments_lexer": "ipython3",
   "version": "3.7.7"
  }
 },
 "nbformat": 4,
 "nbformat_minor": 4
}
=======
  ]
}
>>>>>>> dd236079ceeb8d5c3839d87eeefcb55fea136c53
