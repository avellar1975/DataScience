{
  "nbformat": 4,
  "nbformat_minor": 0,
  "metadata": {
    "colab": {
      "name": "Educacao-no-Brasil",
      "provenance": [],
      "authorship_tag": "ABX9TyMOVTdtDIjtOANrc2vSGyPk",
      "include_colab_link": true
    },
    "kernelspec": {
      "name": "python3",
      "display_name": "Python 3"
    }
  },
  "cells": [
    {
      "cell_type": "markdown",
      "metadata": {
        "id": "view-in-github",
        "colab_type": "text"
      },
      "source": [
        "<a href=\"https://colab.research.google.com/github/avellar1975/DataScience/blob/main/jupyter_notebooks/Educacao_no_Brasil.ipynb\" target=\"_parent\"><img src=\"https://colab.research.google.com/assets/colab-badge.svg\" alt=\"Open In Colab\"/></a>"
      ]
    },
    {
      "cell_type": "markdown",
      "metadata": {
        "id": "1cUeXPhI6Jvl"
      },
      "source": [
        "## Carregamento do *dataset*"
      ]
    },
    {
      "cell_type": "markdown",
      "metadata": {
        "id": "KRw7UwGX6TWp"
      },
      "source": [
        "### Importando bibliotecas do projeto"
      ]
    },
    {
      "cell_type": "code",
      "metadata": {
        "id": "RvDaeVLl6CyZ"
      },
      "source": [
        "import pandas as pd"
      ],
      "execution_count": 1,
      "outputs": []
    },
    {
      "cell_type": "code",
      "metadata": {
        "id": "QQ3_wHtb6X8D"
      },
      "source": [
        ""
      ],
      "execution_count": null,
      "outputs": []
    }
  ]
}